{
 "cells": [
  {
   "cell_type": "markdown",
   "metadata": {},
   "source": [
    "CONNECT DATABASE WITH PYTHON"
   ]
  },
  {
   "cell_type": "code",
   "execution_count": 2,
   "metadata": {},
   "outputs": [],
   "source": [
    "#import API\n",
    "import mysql.connector as connector\n",
    "#establish connection\n",
    "connection=connector.connect(user=\"harisadmin\",\n",
    "                            password=\"Lontrokz\")"
   ]
  },
  {
   "cell_type": "code",
   "execution_count": 4,
   "metadata": {},
   "outputs": [
    {
     "data": {
      "text/plain": [
       "'little_lemon_db'"
      ]
     },
     "execution_count": 4,
     "metadata": {},
     "output_type": "execute_result"
    }
   ],
   "source": [
    "#create cursor object\n",
    "cursor=connection.cursor()\n",
    "#set DB in use\n",
    "cursor.execute(\"USE little_lemon_db\")\n",
    "# confirm the database in use\n",
    "connection.database"
   ]
  },
  {
   "cell_type": "markdown",
   "metadata": {},
   "source": [
    "CREATE CONNECTION POOL"
   ]
  },
  {
   "cell_type": "code",
   "execution_count": 5,
   "metadata": {},
   "outputs": [
    {
     "name": "stdout",
     "output_type": "stream",
     "text": [
      "The connection pool is created with a name:  pool_one\n",
      "The pool size is: 3\n"
     ]
    }
   ],
   "source": [
    "\n",
    "# #import mysql connection pool\n",
    "# from mysql.connector.pooling import MySQLConnectionPool\n",
    "# from mysql.connector import Error\n",
    "# #setup DB\n",
    "# dbconfig={\n",
    "#     \"database\":\"little_lemon_db\",\n",
    "#     \"user\": \"harisadmin\",\n",
    "#     \"password\": \"Lontrokz\"\n",
    "# }\n",
    "# #handling exception\n",
    "# try:\n",
    "#     pool = MySQLConnectionPool(pool_name = \"pool_one\",pool_size = 3,**dbconfig)\n",
    "#     print(\"The connection pool is created with a name: \",pool.pool_name)\n",
    "#     print(\"The pool size is:\",pool.pool_size)\n",
    "\n",
    "# except Error as er:\n",
    "#     print(\"Error code:\", er.errno)\n",
    "#     print(\"Error message:\", er.msg)"
   ]
  },
  {
   "cell_type": "code",
   "execution_count": null,
   "metadata": {},
   "outputs": [],
   "source": []
  }
 ],
 "metadata": {
  "kernelspec": {
   "display_name": "Python 3",
   "language": "python",
   "name": "python3"
  },
  "language_info": {
   "codemirror_mode": {
    "name": "ipython",
    "version": 3
   },
   "file_extension": ".py",
   "mimetype": "text/x-python",
   "name": "python",
   "nbconvert_exporter": "python",
   "pygments_lexer": "ipython3",
   "version": "3.12.0"
  }
 },
 "nbformat": 4,
 "nbformat_minor": 2
}
