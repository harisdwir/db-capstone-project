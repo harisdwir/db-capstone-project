{
 "cells": [
  {
   "cell_type": "markdown",
   "metadata": {},
   "source": [
    "CONNECT DATABASE WITH PYTHON"
   ]
  },
  {
   "cell_type": "code",
   "execution_count": 2,
   "metadata": {},
   "outputs": [],
   "source": [
    "#import API\n",
    "import mysql.connector as connector\n",
    "#establish connection\n",
    "connection=connector.connect(user=\"harisadmin\",\n",
    "                            password=\"Lontrokz\")"
   ]
  },
  {
   "cell_type": "code",
   "execution_count": 3,
   "metadata": {},
   "outputs": [
    {
     "data": {
      "text/plain": [
       "'little_lemon_db'"
      ]
     },
     "execution_count": 3,
     "metadata": {},
     "output_type": "execute_result"
    }
   ],
   "source": [
    "#create cursor object\n",
    "cursor=connection.cursor()\n",
    "#set DB in use\n",
    "cursor.execute(\"USE little_lemon_db\")\n",
    "# confirm the database in use\n",
    "connection.database"
   ]
  },
  {
   "cell_type": "markdown",
   "metadata": {},
   "source": [
    "CREATE CONNECTION POOL"
   ]
  },
  {
   "cell_type": "code",
   "execution_count": 4,
   "metadata": {},
   "outputs": [],
   "source": [
    "\n",
    "# #import mysql connection pool\n",
    "# from mysql.connector.pooling import MySQLConnectionPool\n",
    "# from mysql.connector import Error\n",
    "# #setup DB\n",
    "# dbconfig={\n",
    "#     \"database\":\"little_lemon_db\",\n",
    "#     \"user\": \"harisadmin\",\n",
    "#     \"password\": \"Lontrokz\"\n",
    "# }\n",
    "# #handling exception\n",
    "# try:\n",
    "#     pool = MySQLConnectionPool(pool_name = \"pool_one\",pool_size = 3,**dbconfig)\n",
    "#     print(\"The connection pool is created with a name: \",pool.pool_name)\n",
    "#     print(\"The pool size is:\",pool.pool_size)\n",
    "\n",
    "# except Error as er:\n",
    "#     print(\"Error code:\", er.errno)\n",
    "#     print(\"Error message:\", er.msg)"
   ]
  },
  {
   "cell_type": "markdown",
   "metadata": {},
   "source": [
    "Create GetMaxQuantity() procedure"
   ]
  },
  {
   "cell_type": "code",
   "execution_count": 14,
   "metadata": {},
   "outputs": [
    {
     "name": "stdout",
     "output_type": "stream",
     "text": [
      "Today's cost report:\n",
      "\t Total_Cost : 960\n",
      "\t Average_Cost : 320.0000\n",
      "\t Min_Cost : 320\n",
      "\t Max_Cost : 320\n"
     ]
    }
   ],
   "source": [
    "cursor.execute(\"DROP PROCEDURE IF EXISTS GetMaxCost;\")\n",
    "#create a query\n",
    "#I also added more parameter such as SUM,AVG,and MIN\n",
    "stored_procedure_query=\"\"\"\n",
    "CREATE PROCEDURE IF NOT EXISTS GetMaxCost()\n",
    "\n",
    "BEGIN\n",
    "SELECT \n",
    "SUM(Cost) AS Total_Cost,\n",
    "AVG(Cost) AS Average_Cost,\n",
    "MIN(Cost) AS Min_Cost,\n",
    "MAX(Cost) AS Max_Cost\n",
    "FROM Cost;\n",
    "\n",
    "END\n",
    "\"\"\"\n",
    "\n",
    "#execute the query\n",
    "cursor.execute(stored_procedure_query)\n",
    "#call the stored procedure\n",
    "cursor.callproc(\"GetMaxCost\")\n",
    "# Retrieve records in \"dataset\"\n",
    "results = next(cursor.stored_results())\n",
    "results = results.fetchall()\n",
    "# Retrieve column names using list comprehension in a for loop \n",
    "for column_id in cursor.stored_results():\n",
    "    cols = [column[0] for column in column_id.description]\n",
    "\n",
    "# print the result    \n",
    "print(\"Today's cost report:\")\n",
    "for result in results:\n",
    "    print(\"\\t\",cols[0],\":\",result[0])\n",
    "    print(\"\\t\",cols[1],\":\",result[1])\n",
    "    print(\"\\t\",cols[2],\":\",result[2])\n",
    "    print(\"\\t\",cols[3],\":\",result[3])"
   ]
  },
  {
   "cell_type": "markdown",
   "metadata": {},
   "source": [
    "Create AddBooking() stored procedure"
   ]
  },
  {
   "cell_type": "code",
   "execution_count": null,
   "metadata": {},
   "outputs": [],
   "source": [
    "cursor.execute(\"DROP PROCEDURE IF EXISTS AddBooking;\")\n",
    "\n",
    "# create query\n",
    "manage_booking=\"\"\"\n",
    "CREATE PROCEDURE IF NOT EXISTS AddBooking()\n",
    "\n",
    "BEGIN\n",
    "\n",
    "END\n",
    "\"\"\"\n"
   ]
  }
 ],
 "metadata": {
  "kernelspec": {
   "display_name": "Python 3",
   "language": "python",
   "name": "python3"
  },
  "language_info": {
   "codemirror_mode": {
    "name": "ipython",
    "version": 3
   },
   "file_extension": ".py",
   "mimetype": "text/x-python",
   "name": "python",
   "nbconvert_exporter": "python",
   "pygments_lexer": "ipython3",
   "version": "3.12.0"
  }
 },
 "nbformat": 4,
 "nbformat_minor": 2
}
